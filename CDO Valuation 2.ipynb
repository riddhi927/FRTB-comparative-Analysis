{
 "cells": [
  {
   "cell_type": "markdown",
   "id": "402d09fe",
   "metadata": {},
   "source": [
    "### CDO Structure\n",
    "* The CDO does not consist of any tranches\n",
    "* Valuation performed using Monte Carlo Simulation (10,000 simulations)\n",
    "* Each simulation is CDO using 10 bonds described below"
   ]
  },
  {
   "cell_type": "code",
   "execution_count": 4,
   "id": "3717221d",
   "metadata": {},
   "outputs": [],
   "source": [
    "import numpy as np\n",
    "from scipy.stats import norm, uniform"
   ]
  },
  {
   "cell_type": "code",
   "execution_count": 3,
   "id": "51dbf376",
   "metadata": {},
   "outputs": [],
   "source": [
    "num_simulations = 10000\n",
    "num_periods = 60\n",
    "face_value = 100000\n",
    "coupon_rate = 0.07\n",
    "recovery_rate = 0.4\n",
    "correlation = 0.25\n",
    "copula_params = 2.0  # Clayton copula parameter\n",
    "risk_free_rate = 0.035  # 3.5%\n",
    "num_bonds = 10"
   ]
  },
  {
   "cell_type": "code",
   "execution_count": 36,
   "id": "4ccc6a85",
   "metadata": {},
   "outputs": [],
   "source": [
    "def simulate_default_probabilities(num_bonds, num_simulations, num_periods, correlation, copula_params):\n",
    "    # Generate independent standard normal random variables\n",
    "    independent_normals = np.random.normal(size=(num_simulations, num_bonds, num_periods))\n",
    "\n",
    "    # Generate correlated random variables using the Clayton copula\n",
    "    correlated_normals = copula_transform(independent_normals, correlation, copula_params)\n",
    "\n",
    "    # Transform correlated normals to uniform marginals\n",
    "    uniform_marginals = norm.cdf(correlated_normals)\n",
    "\n",
    "    # Simulate default probabilities based on the uniform marginals\n",
    "    default_probabilities = 1 - uniform_marginals\n",
    "\n",
    "    return default_probabilities\n",
    "\n",
    "def copula_transform(normals, rho, copula_params):\n",
    "    \"\"\"\n",
    "    Clayton copula transformation function.\n",
    "    \"\"\"\n",
    "    num_columns = normals.shape[2]\n",
    "    print(num_columns)\n",
    "    transformed_variables = np.empty_like(normals)\n",
    "\n",
    "    for i in range(num_columns-1):\n",
    "        u = normals[:,:, i]\n",
    "        v = normals[:,:, i + 1] if i + 1 < num_columns else normals[:,:, 0]  # Wrap around to the first column for the last variable\n",
    "\n",
    "        # Clayton copula transformation formula\n",
    "        w = (u**(-rho) + v**(-rho) - 1)**(-1/rho)\n",
    "\n",
    "        transformed_variables[:,:, i] = u\n",
    "        transformed_variables[:,:, i + 1] = w if i + 1 < num_columns else w  # Wrap around\n",
    "\n",
    "    return transformed_variables\n",
    "\n"
   ]
  },
  {
   "cell_type": "code",
   "execution_count": 37,
   "id": "d382d86e",
   "metadata": {},
   "outputs": [
    {
     "name": "stdout",
     "output_type": "stream",
     "text": [
      "60\n"
     ]
    },
    {
     "name": "stderr",
     "output_type": "stream",
     "text": [
      "/var/folders/xc/6c2pzz2172x4x83lp41y7csm0000gn/T/ipykernel_36993/2381541489.py:29: RuntimeWarning: invalid value encountered in power\n",
      "  w = (u**(-rho) + v**(-rho) - 1)**(-1/rho)\n"
     ]
    },
    {
     "name": "stdout",
     "output_type": "stream",
     "text": [
      "Simulated Default Probabilities:\n",
      "[[[0.35607763 0.4038913  0.29029463 0.68457906 0.16068226 0.31577626\n",
      "   0.7236377  0.58168278 0.59158119 0.77275211 0.33792361 0.31866421\n",
      "   0.78042449 0.84353546 0.4839291  0.90959403 0.58351052 0.66417881\n",
      "   0.81208674 0.97630874 0.96428456 0.47641897 0.66475653 0.1504678\n",
      "   0.36904368 0.89499329 0.96048631 0.25705482 0.90034341 0.85791056\n",
      "   0.39852577 0.74490478 0.69141865 0.77471739 0.30542721 0.25506349\n",
      "   0.33020158 0.95267501 0.32396922 0.49629242 0.75351504 0.25858423\n",
      "   0.06983101 0.94066788 0.87417346 0.93119503 0.26685358 0.47839509\n",
      "   0.86467183 0.75096541 0.50400998 0.71255324 0.47092157 0.00661527\n",
      "   0.30735547 0.43799161 0.71858433 0.27936003 0.51200249        nan]\n",
      "  [0.7599189  0.31383231 0.58467862 0.49835041 0.80086408 0.70808661\n",
      "   0.46662562 0.10877648 0.04835168 0.29681466 0.72668112 0.80276757\n",
      "   0.90538671 0.37851872 0.06989998 0.20302834 0.76706283 0.9426638\n",
      "   0.30105788 0.28189675 0.36906822 0.82748758 0.36812173 0.11375295\n",
      "   0.02681618 0.98542309 0.41508456 0.21244929 0.03847217 0.14037092\n",
      "   0.52752411 0.76558777 0.96689241 0.36822292 0.64624365 0.16990963\n",
      "   0.29761233 0.0442192  0.116343   0.74670988 0.62116393 0.24236732\n",
      "   0.02328589 0.3555974  0.92220559 0.61630011 0.76110656 0.02210858\n",
      "   0.95958161 0.57251315 0.14504959 0.52095721 0.6601642  0.5179811\n",
      "   0.79199672 0.88371001 0.84048844 0.91647475 0.21075156        nan]\n",
      "  [0.99582039 0.05039302 0.54133601 0.33570855 0.09981999 0.96519351\n",
      "   0.7035818  0.40643295 0.46451384 0.52765003 0.74243879 0.00903415\n",
      "   0.17059921 0.08819713 0.04364495 0.38907661 0.40166515 0.629837\n",
      "   0.5436137  0.17353927 0.83848536 0.68402065 0.44143174 0.09732486\n",
      "   0.99286319 0.55790563 0.63625864 0.2603751  0.11635176 0.66404799\n",
      "   0.74408111 0.49614481 0.98479463 0.05766573 0.82714218 0.91393342\n",
      "   0.71187385 0.21740401 0.26166017 0.25653674 0.15281163 0.45140868\n",
      "   0.51864889 0.88506792 0.18637551 0.01331239 0.94936298 0.84296874\n",
      "   0.71789475 0.73883768 0.69516048 0.56264053 0.98245357 0.87241211\n",
      "   0.32771172 0.13193694 0.31563795 0.89091059 0.60027039        nan]\n",
      "  [0.99192414 0.52836559 0.88163414 0.92313851 0.2458945  0.48863785\n",
      "   0.37804505 0.26908186 0.68360813 0.38837769 0.31573167 0.03953927\n",
      "   0.89664248 0.78714531 0.88584128 0.15060322 0.53274089 0.58342775\n",
      "   0.64488428 0.5412681  0.13612865 0.56235371 0.67619717 0.11329335\n",
      "   0.7846396  0.87822624 0.32256263 0.84505148 0.24544406 0.03258915\n",
      "   0.39688829 0.58828733 0.57205078 0.38947569 0.35787646 0.01003312\n",
      "   0.11889669 0.7388582  0.09528952 0.14737738 0.35321568 0.69842236\n",
      "   0.84090831 0.01001215 0.58669448 0.41331685 0.27719574 0.86404999\n",
      "   0.48657385 0.79809732 0.61342448 0.6204081  0.34169191 0.46859803\n",
      "   0.48255594 0.43170062 0.35696127 0.4486719  0.25582541 0.48025041]\n",
      "  [0.15603804 0.279651   0.30978284 0.97734526 0.51048154 0.41856386\n",
      "   0.91462121 0.35712659 0.22604456 0.65699012 0.37803721 0.65764772\n",
      "   0.74497421 0.68212852 0.19271347 0.52589104 0.27515463 0.11899462\n",
      "   0.56237969 0.93089075 0.9625837  0.99930515 0.76808844 0.22863237\n",
      "   0.61765324 0.35889988 0.63209848 0.72619667 0.68078698 0.52668594\n",
      "   0.76432193 0.9791978  0.39772024 0.68212058 0.20233032 0.04922564\n",
      "   0.34643019 0.6962072  0.21839157 0.18377512 0.38137382 0.78244321\n",
      "   0.65504119 0.13555759 0.01872468 0.00470769 0.21915899 0.93519883\n",
      "   0.36479412 0.75158439 0.36692318 0.30495003 0.15756438 0.95029672\n",
      "   0.07418592 0.30225013 0.03833475 0.25257297 0.61817912        nan]\n",
      "  [0.09752874 0.37549578 0.50289344 0.59519691 0.24839577 0.25104421\n",
      "   0.0443114  0.81805431 0.45999873 0.7539773  0.21184678 0.8443135\n",
      "   0.73847733 0.97868197 0.28517757 0.99399021 0.32276215 0.52036568\n",
      "   0.57435634 0.22754097 0.37744404 0.30681587 0.50528492 0.41906284\n",
      "   0.74584784 0.18791502 0.23538995 0.75968897 0.87663869 0.37630514\n",
      "   0.92993451 0.9055696  0.87355263 0.21061992 0.58850708 0.99206826\n",
      "   0.94461258 0.61156019 0.52770471 0.30909774 0.3752821  0.33654474\n",
      "   0.08979482 0.01931751 0.83526688 0.3846393  0.78402296 0.44317292\n",
      "   0.9256525  0.65393711 0.36538306 0.33944291 0.8815712  0.92235239\n",
      "   0.91575744 0.58171635 0.10905952 0.09542369 0.66872284        nan]\n",
      "  [0.68807623 0.11959727 0.46715553 0.75146329 0.4939755  0.54011939\n",
      "   0.72925007 0.30083124 0.00982029 0.01519895 0.16796846 0.41629758\n",
      "   0.97144246 0.07258908 0.80259349 0.92261133 0.16512563 0.03065641\n",
      "   0.51915737 0.50302963 0.07153951 0.57316359 0.18715333 0.72043996\n",
      "   0.10970836 0.6200485  0.90345806 0.36261516 0.04733563 0.13729601\n",
      "   0.72061278 0.97197771 0.03604877 0.574486   0.69117637 0.20404409\n",
      "   0.57365047 0.70947042 0.00160649 0.82782839 0.96950868 0.36999276\n",
      "   0.51550241 0.43916323 0.4320867  0.29893628 0.25640821 0.5172908\n",
      "   0.48635506 0.68750421 0.56053183 0.77866482 0.27547284 0.27826988\n",
      "   0.16522797 0.79117607 0.1054717  0.78060421 0.26108629 0.40901469]\n",
      "  [0.73913226 0.29897759 0.4711715  0.47946338 0.77812557 0.10123752\n",
      "   0.96941523 0.84863441 0.14421546 0.54970888 0.30451393 0.65223598\n",
      "   0.06084506 0.94213827 0.92859599 0.98940395 0.87582782 0.70084775\n",
      "   0.33719947 0.43277567 0.36056823 0.33780885 0.48276322 0.43246239\n",
      "   0.32016908 0.52097053 0.37024585 0.62543963 0.41622202 0.42967985\n",
      "   0.51369616 0.02131229 0.10171335 0.97255587 0.64782034 0.09970214\n",
      "   0.48515219 0.62618018 0.42266318 0.24772298 0.33555787 0.65436848\n",
      "   0.89291235 0.70113485 0.21347332 0.01785689 0.13984563 0.98221013\n",
      "   0.34918658 0.86571902 0.52399266 0.70961875 0.44161741 0.86634014\n",
      "   0.03962524 0.5982053  0.94134599 0.64779799 0.89700929        nan]\n",
      "  [0.08739753 0.77281963 0.60108645 0.84508854 0.69649256 0.02324257\n",
      "   0.44378118 0.18120018 0.23087355 0.54272463 0.70785209 0.25182874\n",
      "   0.53500562 0.00599103 0.53416137 0.19579904 0.22040917 0.21173068\n",
      "   0.91578307 0.31360036 0.79269743 0.41287944 0.46275986 0.29287407\n",
      "   0.80606158 0.45659048 0.49824961 0.48180566 0.07229226 0.87331237\n",
      "   0.55509843 0.69806525 0.17084765 0.5116596  0.85107822 0.46366474\n",
      "   0.58566184 0.8131708  0.35578383 0.73466054 0.71337372 0.50157904\n",
      "   0.65705315 0.19251331 0.4897073  0.03986935 0.2419682  0.92485237\n",
      "   0.69294262 0.28409745 0.39040521 0.97383582 0.82588066 0.19042632\n",
      "   0.7185882  0.2666846  0.32453494 0.11245555 0.41588022        nan]\n",
      "  [0.30305583 0.75869912 0.95738845 0.59708307 0.57164507 0.71955681\n",
      "   0.40891138 0.4389085  0.19349628 0.92933488 0.51968994 0.85186374\n",
      "   0.41683543 0.7530378  0.30310204 0.05515203 0.32103566 0.91935755\n",
      "   0.04200269 0.55366796 0.97744155 0.46742434 0.12328723 0.86532404\n",
      "   0.51357931 0.56276174 0.8226943  0.66036159 0.8709567  0.42070257\n",
      "   0.35431112 0.36007778 0.16305431 0.51964655 0.88017564 0.87057128\n",
      "   0.74472658 0.82803008 0.46204994 0.52927104 0.7843448  0.67682081\n",
      "   0.85774953 0.33033701 0.73582131 0.5380092  0.8106385  0.48103061\n",
      "   0.36439931 0.39550399 0.5305429  0.81302407 0.85702678 0.27592873\n",
      "   0.12802705 0.36342364 0.16394062 0.4270768  0.1139418  0.37162612]]]\n",
      "(10000, 10, 60)\n"
     ]
    }
   ],
   "source": [
    "\n",
    "default_probabilities = simulate_default_probabilities(num_bonds, num_simulations, num_periods, correlation, copula_params)\n",
    "\n",
    "# Print the first 5 simulated default probabilities for each period\n",
    "print(\"Simulated Default Probabilities:\")\n",
    "print(default_probabilities[:1, :,:])\n",
    "print(default_probabilities.shape)"
   ]
  },
  {
   "cell_type": "code",
   "execution_count": 38,
   "id": "e3594ac4",
   "metadata": {},
   "outputs": [],
   "source": [
    "def generate_default_scenarios(default_probabilities):\n",
    "    \"\"\"\n",
    "    Generate default scenarios based on simulated default probabilities.\n",
    "    \"\"\"\n",
    "    num_simulations, num_bonds, num_periods = default_probabilities.shape\n",
    "\n",
    "    # Compare default probabilities to determine defaults\n",
    "    default_scenarios = 0.9 < default_probabilities\n",
    "\n",
    "    return default_scenarios"
   ]
  },
  {
   "cell_type": "code",
   "execution_count": 51,
   "id": "6d0dcce5",
   "metadata": {},
   "outputs": [],
   "source": [
    "default_scenarios = generate_default_scenarios(default_probabilities)"
   ]
  },
  {
   "cell_type": "code",
   "execution_count": 52,
   "id": "4d27e3c3",
   "metadata": {},
   "outputs": [
    {
     "name": "stdout",
     "output_type": "stream",
     "text": [
      "Default Scenarios:\n",
      "[[[0 0 0 0 0 0 0 0 0 0 0 0 0 0 0 1 0 0 0 1 1 0 0 0 0 0 1 0 1 0 0 0 0 0 0\n",
      "   0 0 1 0 0 0 0 0 1 0 1 0 0 0 0 0 0 0 0 0 0 0 0 0 0]\n",
      "  [0 0 0 0 0 0 0 0 0 0 0 0 1 0 0 0 0 1 0 0 0 0 0 0 0 1 0 0 0 0 0 0 1 0 0\n",
      "   0 0 0 0 0 0 0 0 0 1 0 0 0 1 0 0 0 0 0 0 0 0 1 0 0]\n",
      "  [1 0 0 0 0 1 0 0 0 0 0 0 0 0 0 0 0 0 0 0 0 0 0 0 1 0 0 0 0 0 0 0 1 0 0\n",
      "   1 0 0 0 0 0 0 0 0 0 0 1 0 0 0 0 0 1 0 0 0 0 0 0 0]\n",
      "  [1 0 0 1 0 0 0 0 0 0 0 0 0 0 0 0 0 0 0 0 0 0 0 0 0 0 0 0 0 0 0 0 0 0 0\n",
      "   0 0 0 0 0 0 0 0 0 0 0 0 0 0 0 0 0 0 0 0 0 0 0 0 0]\n",
      "  [0 0 0 1 0 0 1 0 0 0 0 0 0 0 0 0 0 0 0 1 1 1 0 0 0 0 0 0 0 0 0 1 0 0 0\n",
      "   0 0 0 0 0 0 0 0 0 0 0 0 1 0 0 0 0 0 1 0 0 0 0 0 0]\n",
      "  [0 0 0 0 0 0 0 0 0 0 0 0 0 1 0 1 0 0 0 0 0 0 0 0 0 0 0 0 0 0 1 1 0 0 0\n",
      "   1 1 0 0 0 0 0 0 0 0 0 0 0 1 0 0 0 0 1 1 0 0 0 0 0]\n",
      "  [0 0 0 0 0 0 0 0 0 0 0 0 1 0 0 1 0 0 0 0 0 0 0 0 0 0 1 0 0 0 0 1 0 0 0\n",
      "   0 0 0 0 0 1 0 0 0 0 0 0 0 0 0 0 0 0 0 0 0 0 0 0 0]\n",
      "  [0 0 0 0 0 0 1 0 0 0 0 0 0 1 1 1 0 0 0 0 0 0 0 0 0 0 0 0 0 0 0 0 0 1 0\n",
      "   0 0 0 0 0 0 0 0 0 0 0 0 1 0 0 0 0 0 0 0 0 1 0 0 0]\n",
      "  [0 0 0 0 0 0 0 0 0 0 0 0 0 0 0 0 0 0 1 0 0 0 0 0 0 0 0 0 0 0 0 0 0 0 0\n",
      "   0 0 0 0 0 0 0 0 0 0 0 0 1 0 0 0 1 0 0 0 0 0 0 0 0]\n",
      "  [0 0 1 0 0 0 0 0 0 1 0 0 0 0 0 0 0 1 0 0 1 0 0 0 0 0 0 0 0 0 0 0 0 0 0\n",
      "   0 0 0 0 0 0 0 0 0 0 0 0 0 0 0 0 0 0 0 0 0 0 0 0 0]]]\n",
      "(10000, 10, 60)\n"
     ]
    }
   ],
   "source": [
    "# Print the first 5 default scenarios for each period\n",
    "print(\"Default Scenarios:\")\n",
    "print(default_scenarios[:1,:, :].astype(int))\n",
    "print(default_scenarios.shape)"
   ]
  },
  {
   "cell_type": "code",
   "execution_count": 42,
   "id": "dacdae97",
   "metadata": {},
   "outputs": [],
   "source": [
    "def first_one(A):\n",
    "    if len(A) == 0:\n",
    "        return -1\n",
    "\n",
    "    return first_one_subarray(A, 0, len(A) - 1)\n",
    "\n",
    "def first_one_subarray(A, start, end):\n",
    "    # Incorrect subarray\n",
    "    if start > end or start > len(A) - 1:\n",
    "        return -1\n",
    "\n",
    "    # Check if 1 is on 'first' position\n",
    "    if A[start] == 1:\n",
    "        return start\n",
    "\n",
    "    # Divide into two parts\n",
    "    split_point = max(start + 1, round(end / 2))\n",
    "    result_left = first_one_subarray(A, start + 1, split_point)\n",
    "    result_right = first_one_subarray(A, split_point + 1, end)\n",
    "\n",
    "    if result_left != -1:\n",
    "        return result_left\n",
    "    else:\n",
    "        return result_right"
   ]
  },
  {
   "cell_type": "code",
   "execution_count": 45,
   "id": "c4e17731",
   "metadata": {},
   "outputs": [],
   "source": [
    "default_times = np.zeros((num_simulations,num_bonds,num_periods ))\n",
    "for i in range(num_simulations):\n",
    "    for j in range(num_bonds):\n",
    "        default_times[i,j,:]=first_one(default_scenarios[i,j,:])"
   ]
  },
  {
   "cell_type": "code",
   "execution_count": 102,
   "id": "e61076c8",
   "metadata": {},
   "outputs": [],
   "source": [
    "# Initialize CDO values\n",
    "cdo_values = np.zeros(num_simulations)"
   ]
  },
  {
   "cell_type": "code",
   "execution_count": 103,
   "id": "980bbe47",
   "metadata": {},
   "outputs": [
    {
     "data": {
      "text/plain": [
       "(10000,)"
      ]
     },
     "execution_count": 103,
     "metadata": {},
     "output_type": "execute_result"
    }
   ],
   "source": [
    "cdo_values.shape"
   ]
  },
  {
   "cell_type": "code",
   "execution_count": 58,
   "id": "1ddda7f9",
   "metadata": {},
   "outputs": [
    {
     "data": {
      "text/plain": [
       "(10000, 10, 60)"
      ]
     },
     "execution_count": 58,
     "metadata": {},
     "output_type": "execute_result"
    }
   ],
   "source": [
    "default_scenarios.shape"
   ]
  },
  {
   "cell_type": "code",
   "execution_count": 61,
   "id": "f38ca8ee",
   "metadata": {},
   "outputs": [],
   "source": [
    "def calculate_cdo_cash_flows(default_scenarios, face_value, coupon_rate, recovery_rate):\n",
    "    \"\"\"\n",
    "    Calculate CDO cash flows based on default scenarios.\n",
    "    \"\"\"\n",
    "    num_simulations,num_bonds, num_periods = default_scenarios.shape\n",
    "\n",
    "    # Initialize CDO cash flows matrix\n",
    "    cdo_cash_flows = np.zeros((num_simulations,num_bonds, num_periods))\n",
    "    #print(cdo_cash_flows[1,:])\n",
    "    i=0\n",
    "    for t in range(num_simulations):\n",
    "        # For each Bond\n",
    "        for b in range(num_bonds):\n",
    "            # Calculate cash flows for each simulation at time t\n",
    "            flag=True\n",
    "            i=0\n",
    "            for i in range(num_periods):\n",
    "                #print(flag)\n",
    "                if flag:\n",
    "                    if default_scenarios[t,b, i] > 0.9:  # Bond defaulted\n",
    "                        cdo_cash_flows[t,b, i] = face_value * (1 - recovery_rate)  # Loss given default\n",
    "                        flag = False\n",
    "                    else:  # Bond did not default\n",
    "                        cdo_cash_flows[t,b, i] = face_value * coupon_rate / 2  # 6-month coupon payment\n",
    "\n",
    "    return cdo_cash_flows"
   ]
  },
  {
   "cell_type": "code",
   "execution_count": 80,
   "id": "d5e03b32",
   "metadata": {},
   "outputs": [
    {
     "name": "stdout",
     "output_type": "stream",
     "text": [
      "CDO Cash Flows:\n",
      "[[[ 3500.  3500.  3500.  3500.  3500.  3500.  3500.  3500.  3500.  3500.\n",
      "    3500.  3500.  3500.  3500.  3500. 60000.     0.     0.     0.     0.\n",
      "       0.     0.     0.     0.     0.     0.     0.     0.     0.     0.\n",
      "       0.     0.     0.     0.     0.     0.     0.     0.     0.     0.\n",
      "       0.     0.     0.     0.     0.     0.     0.     0.     0.     0.\n",
      "       0.     0.     0.     0.     0.     0.     0.     0.     0.     0.]\n",
      "  [ 3500.  3500.  3500.  3500.  3500.  3500.  3500.  3500.  3500.  3500.\n",
      "    3500.  3500. 60000.     0.     0.     0.     0.     0.     0.     0.\n",
      "       0.     0.     0.     0.     0.     0.     0.     0.     0.     0.\n",
      "       0.     0.     0.     0.     0.     0.     0.     0.     0.     0.\n",
      "       0.     0.     0.     0.     0.     0.     0.     0.     0.     0.\n",
      "       0.     0.     0.     0.     0.     0.     0.     0.     0.     0.]\n",
      "  [60000.     0.     0.     0.     0.     0.     0.     0.     0.     0.\n",
      "       0.     0.     0.     0.     0.     0.     0.     0.     0.     0.\n",
      "       0.     0.     0.     0.     0.     0.     0.     0.     0.     0.\n",
      "       0.     0.     0.     0.     0.     0.     0.     0.     0.     0.\n",
      "       0.     0.     0.     0.     0.     0.     0.     0.     0.     0.\n",
      "       0.     0.     0.     0.     0.     0.     0.     0.     0.     0.]\n",
      "  [60000.     0.     0.     0.     0.     0.     0.     0.     0.     0.\n",
      "       0.     0.     0.     0.     0.     0.     0.     0.     0.     0.\n",
      "       0.     0.     0.     0.     0.     0.     0.     0.     0.     0.\n",
      "       0.     0.     0.     0.     0.     0.     0.     0.     0.     0.\n",
      "       0.     0.     0.     0.     0.     0.     0.     0.     0.     0.\n",
      "       0.     0.     0.     0.     0.     0.     0.     0.     0.     0.]\n",
      "  [ 3500.  3500.  3500. 60000.     0.     0.     0.     0.     0.     0.\n",
      "       0.     0.     0.     0.     0.     0.     0.     0.     0.     0.\n",
      "       0.     0.     0.     0.     0.     0.     0.     0.     0.     0.\n",
      "       0.     0.     0.     0.     0.     0.     0.     0.     0.     0.\n",
      "       0.     0.     0.     0.     0.     0.     0.     0.     0.     0.\n",
      "       0.     0.     0.     0.     0.     0.     0.     0.     0.     0.]\n",
      "  [ 3500.  3500.  3500.  3500.  3500.  3500.  3500.  3500.  3500.  3500.\n",
      "    3500.  3500.  3500. 60000.     0.     0.     0.     0.     0.     0.\n",
      "       0.     0.     0.     0.     0.     0.     0.     0.     0.     0.\n",
      "       0.     0.     0.     0.     0.     0.     0.     0.     0.     0.\n",
      "       0.     0.     0.     0.     0.     0.     0.     0.     0.     0.\n",
      "       0.     0.     0.     0.     0.     0.     0.     0.     0.     0.]\n",
      "  [ 3500.  3500.  3500.  3500.  3500.  3500.  3500.  3500.  3500.  3500.\n",
      "    3500.  3500. 60000.     0.     0.     0.     0.     0.     0.     0.\n",
      "       0.     0.     0.     0.     0.     0.     0.     0.     0.     0.\n",
      "       0.     0.     0.     0.     0.     0.     0.     0.     0.     0.\n",
      "       0.     0.     0.     0.     0.     0.     0.     0.     0.     0.\n",
      "       0.     0.     0.     0.     0.     0.     0.     0.     0.     0.]\n",
      "  [ 3500.  3500.  3500.  3500.  3500.  3500. 60000.     0.     0.     0.\n",
      "       0.     0.     0.     0.     0.     0.     0.     0.     0.     0.\n",
      "       0.     0.     0.     0.     0.     0.     0.     0.     0.     0.\n",
      "       0.     0.     0.     0.     0.     0.     0.     0.     0.     0.\n",
      "       0.     0.     0.     0.     0.     0.     0.     0.     0.     0.\n",
      "       0.     0.     0.     0.     0.     0.     0.     0.     0.     0.]\n",
      "  [ 3500.  3500.  3500.  3500.  3500.  3500.  3500.  3500.  3500.  3500.\n",
      "    3500.  3500.  3500.  3500.  3500.  3500.  3500.  3500. 60000.     0.\n",
      "       0.     0.     0.     0.     0.     0.     0.     0.     0.     0.\n",
      "       0.     0.     0.     0.     0.     0.     0.     0.     0.     0.\n",
      "       0.     0.     0.     0.     0.     0.     0.     0.     0.     0.\n",
      "       0.     0.     0.     0.     0.     0.     0.     0.     0.     0.]\n",
      "  [ 3500.  3500. 60000.     0.     0.     0.     0.     0.     0.     0.\n",
      "       0.     0.     0.     0.     0.     0.     0.     0.     0.     0.\n",
      "       0.     0.     0.     0.     0.     0.     0.     0.     0.     0.\n",
      "       0.     0.     0.     0.     0.     0.     0.     0.     0.     0.\n",
      "       0.     0.     0.     0.     0.     0.     0.     0.     0.     0.\n",
      "       0.     0.     0.     0.     0.     0.     0.     0.     0.     0.]]]\n"
     ]
    }
   ],
   "source": [
    "cdo_cash_flows = calculate_cdo_cash_flows(default_scenarios, face_value, coupon_rate, recovery_rate)\n",
    "\n",
    "# Print the first 5 rows of the calculated CDO cash flows\n",
    "print(\"CDO Cash Flows:\")\n",
    "print(cdo_cash_flows[:1, :])"
   ]
  },
  {
   "cell_type": "code",
   "execution_count": 86,
   "id": "6a2b6984",
   "metadata": {},
   "outputs": [],
   "source": [
    "def cash_flows_per_period_func(cdo_cash_flows):\n",
    "    \n",
    "    num_simulations,num_bonds, num_periods = cdo_cash_flows.shape\n",
    "    cash_flows_per_period=np.zeros((num_simulations,1, num_periods))\n",
    "    cash_flows_per_period = np.sum(cdo_cash_flows,axis=1)\n",
    "    return cash_flows_per_period"
   ]
  },
  {
   "cell_type": "code",
   "execution_count": 104,
   "id": "2b0a68c4",
   "metadata": {},
   "outputs": [
    {
     "data": {
      "text/plain": [
       "(10000, 60)"
      ]
     },
     "execution_count": 104,
     "metadata": {},
     "output_type": "execute_result"
    }
   ],
   "source": [
    "cash_flows_per_period = cash_flows_per_period_func(cdo_cash_flows)\n",
    "cash_flows_per_period.shape"
   ]
  },
  {
   "cell_type": "code",
   "execution_count": 105,
   "id": "9d25e2ff",
   "metadata": {},
   "outputs": [
    {
     "data": {
      "text/plain": [
       "array([91500., 88000., 28000., 84500., 24500., 81000., 21000., 21000.,\n",
       "       21000., 77500., 74000., 14000., 14000., 14000., 70500., 10500.,\n",
       "       10500., 10500., 67000.,  7000.,  7000., 63500.,  3500.,  3500.,\n",
       "        3500.,  3500.,  3500.,  3500.,  3500., 60000.,     0.,     0.,\n",
       "           0.,     0.,     0.,     0.,     0.,     0.,     0.,     0.,\n",
       "           0.,     0.,     0.,     0.,     0.,     0.,     0.,     0.,\n",
       "           0.,     0.,     0.,     0.,     0.,     0.,     0.,     0.,\n",
       "           0.,     0.,     0.,     0.])"
      ]
     },
     "execution_count": 105,
     "metadata": {},
     "output_type": "execute_result"
    }
   ],
   "source": [
    "cash_flows_per_period[1]"
   ]
  },
  {
   "cell_type": "code",
   "execution_count": 94,
   "id": "9d3017ac",
   "metadata": {},
   "outputs": [],
   "source": [
    "def discount_cash_flows(cash_flows_per_period, risk_free_rate):\n",
    "    \"\"\"\n",
    "    Discount CDO cash flows to present value using the risk-free rate.\n",
    "    \"\"\"\n",
    "    num_simulations, num_periods = cash_flows_per_period.shape\n",
    "\n",
    "    # Initialize discounted cash flows matrix\n",
    "    discounted_cash_flows = np.zeros((num_simulations, num_periods))\n",
    "    for t in range(num_periods):\n",
    "        discount_factor = 1 / (1 + risk_free_rate / 2) ** (t + 1)  # 6-month compounding\n",
    "\n",
    "        # Discount cash flows for each simulation at time t\n",
    "        discounted_cash_flows[:, t] = cash_flows_per_period[:, t] * discount_factor\n",
    "\n",
    "    return discounted_cash_flows"
   ]
  },
  {
   "cell_type": "code",
   "execution_count": 95,
   "id": "10001c7a",
   "metadata": {},
   "outputs": [],
   "source": [
    "discounted_cash_flows = discount_cash_flows(cash_flows_per_period, risk_free_rate)"
   ]
  },
  {
   "cell_type": "code",
   "execution_count": 98,
   "id": "11b44c07",
   "metadata": {},
   "outputs": [
    {
     "name": "stdout",
     "output_type": "stream",
     "text": [
      "Discounted Cash Flows:\n",
      "[89926.28992629 84999.00391792 26579.98782334 78834.99371963\n",
      " 22464.35713628 72992.5458773  18598.51928805 18278.64303494\n",
      " 17964.26833901 65156.46642206 61143.89810867 11368.81032634\n",
      " 11173.277962   10981.10856216 54346.65873166  7954.97121902\n",
      "  7818.15353221  7683.68897514 48185.99848691  4947.77204017\n",
      "  4862.67522375 43352.73804258  2348.42358179  2308.03300422\n",
      "  2268.33710488  2229.323936    2190.98175528  2153.29902239\n",
      "  2116.26439547 35654.85818977     0.             0.\n",
      "     0.             0.             0.             0.\n",
      "     0.             0.             0.             0.\n",
      "     0.             0.             0.             0.\n",
      "     0.             0.             0.             0.\n",
      "     0.             0.             0.             0.\n",
      "     0.             0.             0.             0.\n",
      "     0.             0.             0.             0.        ]\n"
     ]
    }
   ],
   "source": [
    "# Print the first 5 rows of the discounted cash flows\n",
    "print(\"Discounted Cash Flows:\")\n",
    "print(discounted_cash_flows[1, :])"
   ]
  },
  {
   "cell_type": "code",
   "execution_count": 99,
   "id": "5a5097c0",
   "metadata": {},
   "outputs": [
    {
     "data": {
      "text/plain": [
       "(10000, 60)"
      ]
     },
     "execution_count": 99,
     "metadata": {},
     "output_type": "execute_result"
    }
   ],
   "source": [
    "discounted_cash_flows.shape"
   ]
  },
  {
   "cell_type": "code",
   "execution_count": 106,
   "id": "8c1bba02",
   "metadata": {},
   "outputs": [],
   "source": [
    "for i in range(num_simulations):\n",
    "    cdo_values[i] = np.sum(discounted_cash_flows[i,:])"
   ]
  },
  {
   "cell_type": "code",
   "execution_count": 107,
   "id": "de6c5749",
   "metadata": {},
   "outputs": [
    {
     "data": {
      "text/plain": [
       "(10000,)"
      ]
     },
     "execution_count": 107,
     "metadata": {},
     "output_type": "execute_result"
    }
   ],
   "source": [
    "cdo_values.shape"
   ]
  },
  {
   "cell_type": "code",
   "execution_count": 109,
   "id": "aed330c0",
   "metadata": {},
   "outputs": [
    {
     "data": {
      "text/plain": [
       "array([767213.41197295, 820884.34768525, 830665.34256526, 767470.48748663,\n",
       "       773862.21128138])"
      ]
     },
     "execution_count": 109,
     "metadata": {},
     "output_type": "execute_result"
    }
   ],
   "source": [
    "cdo_values[:5]"
   ]
  },
  {
   "cell_type": "code",
   "execution_count": 110,
   "id": "0e0738d2",
   "metadata": {},
   "outputs": [],
   "source": [
    "expected_cdo_value = np.mean(cdo_values)"
   ]
  },
  {
   "cell_type": "code",
   "execution_count": 111,
   "id": "1d88d84a",
   "metadata": {},
   "outputs": [
    {
     "data": {
      "text/plain": [
       "778324.9956154657"
      ]
     },
     "execution_count": 111,
     "metadata": {},
     "output_type": "execute_result"
    }
   ],
   "source": [
    "expected_cdo_value"
   ]
  },
  {
   "cell_type": "code",
   "execution_count": 112,
   "id": "838b5a5f",
   "metadata": {},
   "outputs": [
    {
     "data": {
      "text/plain": [
       "array([767213.41197295, 820884.34768525, 830665.34256526, ...,\n",
       "       729117.71160652, 762653.74298893, 833658.65510083])"
      ]
     },
     "execution_count": 112,
     "metadata": {},
     "output_type": "execute_result"
    }
   ],
   "source": [
    "cdo_values"
   ]
  },
  {
   "cell_type": "code",
   "execution_count": 113,
   "id": "50cfca0b",
   "metadata": {},
   "outputs": [
    {
     "data": {
      "text/plain": [
       "array([[145454.54545455,  27045.13761025,  80214.60610972, ...,\n",
       "             0.        ,      0.        ,      0.        ],\n",
       "       [ 89926.28992629,  84999.00391792,  26579.98782334, ...,\n",
       "             0.        ,      0.        ,      0.        ],\n",
       "       [ 34398.03439803,  88379.6461192 ,  29902.48630126, ...,\n",
       "             0.        ,      0.        ,      0.        ],\n",
       "       ...,\n",
       "       [ 34398.03439803, 142952.8702256 ,  26579.98782334, ...,\n",
       "             0.        ,      0.        ,      0.        ],\n",
       "       [ 34398.03439803, 142952.8702256 ,  80214.60610972, ...,\n",
       "             0.        ,      0.        ,      0.        ],\n",
       "       [ 34398.03439803,  88379.6461192 ,  83537.10458764, ...,\n",
       "             0.        ,      0.        ,      0.        ]])"
      ]
     },
     "execution_count": 113,
     "metadata": {},
     "output_type": "execute_result"
    }
   ],
   "source": [
    "discounted_cash_flows"
   ]
  },
  {
   "cell_type": "code",
   "execution_count": null,
   "id": "248d5990",
   "metadata": {},
   "outputs": [],
   "source": []
  }
 ],
 "metadata": {
  "kernelspec": {
   "display_name": "Python 3.10 (tensorflow)",
   "language": "python",
   "name": "tensorflow"
  },
  "language_info": {
   "codemirror_mode": {
    "name": "ipython",
    "version": 3
   },
   "file_extension": ".py",
   "mimetype": "text/x-python",
   "name": "python",
   "nbconvert_exporter": "python",
   "pygments_lexer": "ipython3",
   "version": "3.10.10"
  }
 },
 "nbformat": 4,
 "nbformat_minor": 5
}
