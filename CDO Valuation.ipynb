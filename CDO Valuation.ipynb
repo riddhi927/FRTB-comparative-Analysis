{
 "cells": [
  {
   "cell_type": "code",
   "execution_count": 3,
   "id": "f895eecd",
   "metadata": {},
   "outputs": [],
   "source": [
    "import numpy as np\n",
    "from scipy.stats import norm, uniform"
   ]
  },
  {
   "cell_type": "code",
   "execution_count": 74,
   "id": "57839a12",
   "metadata": {},
   "outputs": [],
   "source": [
    "num_simulations = 10000\n",
    "num_periods = 60\n",
    "face_value = 100000\n",
    "coupon_rate = 0.07\n",
    "recovery_rate = 0.4\n",
    "correlation = 0.25\n",
    "copula_params = 2.0  # Clayton copula parameter\n",
    "risk_free_rate = 0.035  # 3.5%"
   ]
  },
  {
   "cell_type": "code",
   "execution_count": 21,
   "id": "ff8bfbee",
   "metadata": {},
   "outputs": [],
   "source": [
    "def simulate_default_probabilities(num_simulations, num_periods, correlation, copula_params):\n",
    "    # Generate independent standard normal random variables\n",
    "    independent_normals = np.random.normal(size=(num_simulations, num_periods))\n",
    "\n",
    "    # Generate correlated random variables using the Clayton copula\n",
    "    correlated_normals = copula_transform(independent_normals, correlation, copula_params)\n",
    "\n",
    "    # Transform correlated normals to uniform marginals\n",
    "    uniform_marginals = norm.cdf(correlated_normals)\n",
    "\n",
    "    # Simulate default probabilities based on the uniform marginals\n",
    "    default_probabilities = 1 - uniform_marginals\n",
    "\n",
    "    return default_probabilities\n",
    "\n",
    "def copula_transform(normals, rho, copula_params):\n",
    "    \"\"\"\n",
    "    Clayton copula transformation function.\n",
    "    \"\"\"\n",
    "    num_columns = normals.shape[1]\n",
    "    transformed_variables = np.empty_like(normals)\n",
    "\n",
    "    for i in range(num_columns-1):\n",
    "        u = normals[:, i]\n",
    "        v = normals[:, i + 1] if i + 1 < num_columns else normals[:, 0]  # Wrap around to the first column for the last variable\n",
    "\n",
    "        # Clayton copula transformation formula\n",
    "        w = (u**(-rho) + v**(-rho) - 1)**(-1/rho)\n",
    "\n",
    "        transformed_variables[:, i] = u\n",
    "        transformed_variables[:, i + 1] = w if i + 1 < num_columns else w  # Wrap around\n",
    "\n",
    "    return transformed_variables\n",
    "\n"
   ]
  },
  {
   "cell_type": "code",
   "execution_count": 20,
   "id": "85daa391",
   "metadata": {},
   "outputs": [
    {
     "name": "stdout",
     "output_type": "stream",
     "text": [
      "Simulated Default Probabilities:\n",
      "[[0.50245672 0.57643122 0.29225016 0.81446907 0.14022413 0.97189996\n",
      "  0.6102696  0.69755281 0.34284077 0.93935801 0.01143382 0.00247391\n",
      "  0.62276436 0.20073539 0.56040238 0.00429667 0.62067326 0.14417212\n",
      "  0.49894754 0.09901783 0.91403676 0.3329517  0.12226871 0.95311712\n",
      "  0.24499758 0.80468837 0.29698929 0.13693157 0.91628069 0.6082653\n",
      "  0.57384038 0.16634784 0.59402693 0.19058888 0.47552467 0.20929502\n",
      "  0.28485139 0.44812964 0.30373663 0.5338361  0.65711457 0.80025779\n",
      "  0.90448769 0.56050068 0.28678862 0.56660976 0.67204596 0.64358098\n",
      "  0.02113247 0.01329183 0.53693818 0.67236278 0.71767071 0.24612022\n",
      "  0.7782153  0.74302425 0.17622339 0.03038525 0.62743617        nan]]\n",
      "(10000, 60)\n"
     ]
    },
    {
     "name": "stderr",
     "output_type": "stream",
     "text": [
      "/var/folders/xc/6c2pzz2172x4x83lp41y7csm0000gn/T/ipykernel_18800/270410040.py:28: RuntimeWarning: invalid value encountered in power\n",
      "  w = (u**(-rho) + v**(-rho) - 1)**(-1/rho)\n"
     ]
    }
   ],
   "source": [
    "\n",
    "default_probabilities = simulate_default_probabilities(num_simulations, num_periods, correlation, copula_params)\n",
    "\n",
    "# Print the first 5 simulated default probabilities for each period\n",
    "print(\"Simulated Default Probabilities:\")\n",
    "print(default_probabilities[:1, :])\n",
    "print(default_probabilities.shape)"
   ]
  },
  {
   "cell_type": "code",
   "execution_count": 44,
   "id": "dd9238f7",
   "metadata": {},
   "outputs": [],
   "source": [
    "def generate_default_scenarios(default_probabilities):\n",
    "    \"\"\"\n",
    "    Generate default scenarios based on simulated default probabilities.\n",
    "    \"\"\"\n",
    "    num_simulations, num_periods = default_probabilities.shape\n",
    "\n",
    "    # Compare default probabilities to determine defaults\n",
    "    default_scenarios = 0.9 < default_probabilities\n",
    "\n",
    "    return default_scenarios"
   ]
  },
  {
   "cell_type": "code",
   "execution_count": 45,
   "id": "107ec3ba",
   "metadata": {},
   "outputs": [],
   "source": [
    "default_scenarios = generate_default_scenarios(default_probabilities)"
   ]
  },
  {
   "cell_type": "code",
   "execution_count": 46,
   "id": "48492e33",
   "metadata": {},
   "outputs": [
    {
     "name": "stdout",
     "output_type": "stream",
     "text": [
      "Default Scenarios:\n",
      "[[0 0 0 0 0 1 0 0 0 1 0 0 0 0 0 0 0 0 0 0 1 0 0 1 0 0 0 0 1 0 0 0 0 0 0 0\n",
      "  0 0 0 0 0 0 1 0 0 0 0 0 0 0 0 0 0 0 0 0 0 0 0 0]\n",
      " [1 0 0 0 0 0 0 0 0 0 0 0 0 0 0 0 0 1 0 0 0 0 0 0 0 0 0 0 1 0 0 0 0 0 0 0\n",
      "  0 1 0 0 0 0 0 0 0 0 0 0 0 0 0 0 0 0 0 0 0 0 0 0]\n",
      " [0 0 0 0 0 0 0 0 0 0 0 0 0 0 0 0 0 1 0 0 1 0 0 0 0 0 0 0 0 1 0 0 0 0 0 0\n",
      "  0 0 0 0 0 0 0 0 0 0 0 0 0 1 0 0 0 0 0 0 0 0 0 0]\n",
      " [0 0 0 0 0 0 0 0 0 0 0 1 0 1 0 0 0 1 0 0 0 0 0 0 0 0 0 0 0 0 0 1 0 0 0 0\n",
      "  0 0 0 0 0 1 0 0 0 0 0 0 0 0 0 0 0 0 0 0 0 0 0 0]\n",
      " [0 0 0 0 0 0 0 0 0 0 0 0 0 0 0 0 0 0 0 0 0 0 0 0 0 0 0 0 0 0 0 0 0 0 0 1\n",
      "  0 0 1 0 0 0 0 0 0 0 0 0 1 0 0 0 0 1 0 0 0 1 0 0]]\n",
      "(10000, 60)\n"
     ]
    }
   ],
   "source": [
    "# Print the first 5 default scenarios for each period\n",
    "print(\"Default Scenarios:\")\n",
    "print(default_scenarios[:5, :].astype(int))\n",
    "print(default_scenarios.shape)"
   ]
  },
  {
   "cell_type": "code",
   "execution_count": 47,
   "id": "988f9335",
   "metadata": {},
   "outputs": [],
   "source": [
    "def first_one(A):\n",
    "    if len(A) == 0:\n",
    "        return -1\n",
    "\n",
    "    return first_one_subarray(A, 0, len(A) - 1)\n",
    "\n",
    "def first_one_subarray(A, start, end):\n",
    "    # Incorrect subarray\n",
    "    if start > end or start > len(A) - 1:\n",
    "        return -1\n",
    "\n",
    "    # Check if 1 is on 'first' position\n",
    "    if A[start] == 1:\n",
    "        return start\n",
    "\n",
    "    # Divide into two parts\n",
    "    split_point = max(start + 1, round(end / 2))\n",
    "    result_left = first_one_subarray(A, start + 1, split_point)\n",
    "    result_right = first_one_subarray(A, split_point + 1, end)\n",
    "\n",
    "    if result_left != -1:\n",
    "        return result_left\n",
    "    else:\n",
    "        return result_right"
   ]
  },
  {
   "cell_type": "code",
   "execution_count": 48,
   "id": "7462d410",
   "metadata": {},
   "outputs": [],
   "source": [
    "default_times = []\n",
    "for i in range(60):\n",
    "    default_times.append(first_one(default_scenarios[i,:]))"
   ]
  },
  {
   "cell_type": "code",
   "execution_count": 50,
   "id": "04624eec",
   "metadata": {},
   "outputs": [],
   "source": [
    "# Initialize CDO values\n",
    "cdo_values = np.zeros(num_simulations)"
   ]
  },
  {
   "cell_type": "code",
   "execution_count": 72,
   "id": "b9c8b982",
   "metadata": {},
   "outputs": [],
   "source": [
    "def calculate_cdo_cash_flows(default_scenarios, face_value, coupon_rate, recovery_rate):\n",
    "    \"\"\"\n",
    "    Calculate CDO cash flows based on default scenarios.\n",
    "    \"\"\"\n",
    "    num_simulations, num_periods = default_scenarios.shape\n",
    "\n",
    "    # Initialize CDO cash flows matrix\n",
    "    cdo_cash_flows = np.zeros((num_simulations, num_periods))\n",
    "    #print(cdo_cash_flows[1,:])\n",
    "    i=0\n",
    "    for t in range(num_simulations):\n",
    "        # Calculate cash flows for each simulation at time t\n",
    "        flag=True\n",
    "        i=0\n",
    "        for i in range(num_periods):\n",
    "            #print(flag)\n",
    "            if flag:\n",
    "                if default_scenarios[t, i] > 0.9:  # Bond defaulted\n",
    "                    cdo_cash_flows[t, i] = face_value * (1 - recovery_rate)  # Loss given default\n",
    "                    flag = False\n",
    "                else:  # Bond did not default\n",
    "                    cdo_cash_flows[t, i] = face_value * coupon_rate / 2  # 6-month coupon payment\n",
    "\n",
    "    return cdo_cash_flows"
   ]
  },
  {
   "cell_type": "code",
   "execution_count": 73,
   "id": "ea51360b",
   "metadata": {},
   "outputs": [
    {
     "name": "stdout",
     "output_type": "stream",
     "text": [
      "CDO Cash Flows:\n",
      "[[ 3500.  3500.  3500.  3500.  3500. 60000.     0.     0.     0.     0.\n",
      "      0.     0.     0.     0.     0.     0.     0.     0.     0.     0.\n",
      "      0.     0.     0.     0.     0.     0.     0.     0.     0.     0.\n",
      "      0.     0.     0.     0.     0.     0.     0.     0.     0.     0.\n",
      "      0.     0.     0.     0.     0.     0.     0.     0.     0.     0.\n",
      "      0.     0.     0.     0.     0.     0.     0.     0.     0.     0.]\n",
      " [60000.     0.     0.     0.     0.     0.     0.     0.     0.     0.\n",
      "      0.     0.     0.     0.     0.     0.     0.     0.     0.     0.\n",
      "      0.     0.     0.     0.     0.     0.     0.     0.     0.     0.\n",
      "      0.     0.     0.     0.     0.     0.     0.     0.     0.     0.\n",
      "      0.     0.     0.     0.     0.     0.     0.     0.     0.     0.\n",
      "      0.     0.     0.     0.     0.     0.     0.     0.     0.     0.]\n",
      " [ 3500.  3500.  3500.  3500.  3500.  3500.  3500.  3500.  3500.  3500.\n",
      "   3500.  3500.  3500.  3500.  3500.  3500.  3500. 60000.     0.     0.\n",
      "      0.     0.     0.     0.     0.     0.     0.     0.     0.     0.\n",
      "      0.     0.     0.     0.     0.     0.     0.     0.     0.     0.\n",
      "      0.     0.     0.     0.     0.     0.     0.     0.     0.     0.\n",
      "      0.     0.     0.     0.     0.     0.     0.     0.     0.     0.]\n",
      " [ 3500.  3500.  3500.  3500.  3500.  3500.  3500.  3500.  3500.  3500.\n",
      "   3500. 60000.     0.     0.     0.     0.     0.     0.     0.     0.\n",
      "      0.     0.     0.     0.     0.     0.     0.     0.     0.     0.\n",
      "      0.     0.     0.     0.     0.     0.     0.     0.     0.     0.\n",
      "      0.     0.     0.     0.     0.     0.     0.     0.     0.     0.\n",
      "      0.     0.     0.     0.     0.     0.     0.     0.     0.     0.]\n",
      " [ 3500.  3500.  3500.  3500.  3500.  3500.  3500.  3500.  3500.  3500.\n",
      "   3500.  3500.  3500.  3500.  3500.  3500.  3500.  3500.  3500.  3500.\n",
      "   3500.  3500.  3500.  3500.  3500.  3500.  3500.  3500.  3500.  3500.\n",
      "   3500.  3500.  3500.  3500.  3500. 60000.     0.     0.     0.     0.\n",
      "      0.     0.     0.     0.     0.     0.     0.     0.     0.     0.\n",
      "      0.     0.     0.     0.     0.     0.     0.     0.     0.     0.]]\n"
     ]
    }
   ],
   "source": [
    "cdo_cash_flows = calculate_cdo_cash_flows(default_scenarios, face_value, coupon_rate, recovery_rate)\n",
    "\n",
    "# Print the first 5 rows of the calculated CDO cash flows\n",
    "print(\"CDO Cash Flows:\")\n",
    "print(cdo_cash_flows[:5, :])"
   ]
  },
  {
   "cell_type": "code",
   "execution_count": 75,
   "id": "7bcda0c4",
   "metadata": {},
   "outputs": [],
   "source": [
    "def discount_cash_flows(cdo_cash_flows, risk_free_rate):\n",
    "    \"\"\"\n",
    "    Discount CDO cash flows to present value using the risk-free rate.\n",
    "    \"\"\"\n",
    "    num_simulations, num_periods = cdo_cash_flows.shape\n",
    "\n",
    "    # Initialize discounted cash flows matrix\n",
    "    discounted_cash_flows = np.zeros((num_simulations, num_periods))\n",
    "\n",
    "    for t in range(num_periods):\n",
    "        discount_factor = 1 / (1 + risk_free_rate / 2) ** (t + 1)  # 6-month compounding\n",
    "\n",
    "        # Discount cash flows for each simulation at time t\n",
    "        discounted_cash_flows[:, t] = cdo_cash_flows[:, t] * discount_factor\n",
    "\n",
    "    return discounted_cash_flows"
   ]
  },
  {
   "cell_type": "code",
   "execution_count": 76,
   "id": "ad556442",
   "metadata": {},
   "outputs": [],
   "source": [
    "discounted_cash_flows = discount_cash_flows(cdo_cash_flows, risk_free_rate)"
   ]
  },
  {
   "cell_type": "code",
   "execution_count": 93,
   "id": "1476ea98",
   "metadata": {},
   "outputs": [
    {
     "name": "stdout",
     "output_type": "stream",
     "text": [
      "Discounted Cash Flows:\n",
      "[[ 3439.8034398   3380.64220128  3322.49847792  3265.35476945\n",
      "   3209.19387661 54068.5525017      0.             0.\n",
      "      0.             0.             0.             0.\n",
      "      0.             0.             0.             0.\n",
      "      0.             0.             0.             0.\n",
      "      0.             0.             0.             0.\n",
      "      0.             0.             0.             0.\n",
      "      0.             0.             0.             0.\n",
      "      0.             0.             0.             0.\n",
      "      0.             0.             0.             0.\n",
      "      0.             0.             0.             0.\n",
      "      0.             0.             0.             0.\n",
      "      0.             0.             0.             0.\n",
      "      0.             0.             0.             0.\n",
      "      0.             0.             0.             0.        ]]\n"
     ]
    }
   ],
   "source": [
    "# Print the first 5 rows of the discounted cash flows\n",
    "print(\"Discounted Cash Flows:\")\n",
    "print(discounted_cash_flows[:1, :])"
   ]
  },
  {
   "cell_type": "code",
   "execution_count": 80,
   "id": "12306e70",
   "metadata": {},
   "outputs": [
    {
     "data": {
      "text/plain": [
       "(10000, 60)"
      ]
     },
     "execution_count": 80,
     "metadata": {},
     "output_type": "execute_result"
    }
   ],
   "source": [
    "discounted_cash_flows.shape"
   ]
  },
  {
   "cell_type": "code",
   "execution_count": 87,
   "id": "b05115c6",
   "metadata": {},
   "outputs": [],
   "source": [
    "for i in range(num_simulations):\n",
    "    cdo_values[i] = np.sum(discounted_cash_flows[i,:])"
   ]
  },
  {
   "cell_type": "code",
   "execution_count": 88,
   "id": "016a8c0c",
   "metadata": {},
   "outputs": [
    {
     "data": {
      "text/plain": [
       "(10000,)"
      ]
     },
     "execution_count": 88,
     "metadata": {},
     "output_type": "execute_result"
    }
   ],
   "source": [
    "cdo_values.shape"
   ]
  },
  {
   "cell_type": "code",
   "execution_count": 89,
   "id": "0a65b3a4",
   "metadata": {},
   "outputs": [],
   "source": [
    "expected_cdo_value = np.mean(cdo_values)"
   ]
  },
  {
   "cell_type": "code",
   "execution_count": 90,
   "id": "9a235113",
   "metadata": {},
   "outputs": [
    {
     "data": {
      "text/plain": [
       "77873.14763644773"
      ]
     },
     "execution_count": 90,
     "metadata": {},
     "output_type": "execute_result"
    }
   ],
   "source": [
    "expected_cdo_value"
   ]
  },
  {
   "cell_type": "code",
   "execution_count": 91,
   "id": "1e5c69e1",
   "metadata": {},
   "outputs": [
    {
     "data": {
      "text/plain": [
       "array([ 70686.04526677,  58968.05896806,  94989.58400639, ...,\n",
       "        66120.45445247, 108597.71862391,  87443.63723783])"
      ]
     },
     "execution_count": 91,
     "metadata": {},
     "output_type": "execute_result"
    }
   ],
   "source": [
    "cdo_values"
   ]
  },
  {
   "cell_type": "code",
   "execution_count": 92,
   "id": "46404d47",
   "metadata": {},
   "outputs": [
    {
     "data": {
      "text/plain": [
       "array([[ 3439.8034398 ,  3380.64220128,  3322.49847792, ...,\n",
       "            0.        ,     0.        ,     0.        ],\n",
       "       [58968.05896806,     0.        ,     0.        , ...,\n",
       "            0.        ,     0.        ,     0.        ],\n",
       "       [ 3439.8034398 ,  3380.64220128,  3322.49847792, ...,\n",
       "            0.        ,     0.        ,     0.        ],\n",
       "       ...,\n",
       "       [ 3439.8034398 ,  3380.64220128,  3322.49847792, ...,\n",
       "            0.        ,     0.        ,     0.        ],\n",
       "       [ 3439.8034398 ,  3380.64220128,  3322.49847792, ...,\n",
       "            0.        ,     0.        ,     0.        ],\n",
       "       [ 3439.8034398 ,  3380.64220128,  3322.49847792, ...,\n",
       "            0.        ,     0.        ,     0.        ]])"
      ]
     },
     "execution_count": 92,
     "metadata": {},
     "output_type": "execute_result"
    }
   ],
   "source": [
    "discounted_cash_flows"
   ]
  },
  {
   "cell_type": "code",
   "execution_count": null,
   "id": "ca545b70",
   "metadata": {},
   "outputs": [],
   "source": []
  }
 ],
 "metadata": {
  "kernelspec": {
   "display_name": "Python 3.10 (tensorflow)",
   "language": "python",
   "name": "tensorflow"
  },
  "language_info": {
   "codemirror_mode": {
    "name": "ipython",
    "version": 3
   },
   "file_extension": ".py",
   "mimetype": "text/x-python",
   "name": "python",
   "nbconvert_exporter": "python",
   "pygments_lexer": "ipython3",
   "version": "3.10.10"
  }
 },
 "nbformat": 4,
 "nbformat_minor": 5
}
